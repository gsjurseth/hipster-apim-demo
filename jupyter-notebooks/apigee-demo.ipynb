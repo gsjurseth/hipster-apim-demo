{
 "cells": [
  {
   "cell_type": "code",
   "execution_count": 7,
   "metadata": {},
   "outputs": [
    {
     "name": "stdout",
     "output_type": "stream",
     "text": [
      "env: kubectl=/usr/bin/kubectl\n",
      "env: istio=/Users/gsjurseth/istio-1.0.4\n",
      "env: istioctl=/Users/gsjurseth/istio-1.0.4/bin/istioctl\n",
      "env: ingress=35.225.233.232\n",
      "env: demo=/Users/gsjurseth/dev/fazio/microservices-demo\n",
      "env: apigee-istio=/Users/gsjurseth/istio/apigee-istio\n",
      "env: mypass=`dapass`\n"
     ]
    }
   ],
   "source": [
    "%env kubectl=/usr/bin/kubectl\n",
    "%env istio=/Users/gsjurseth/istio-1.0.4\n",
    "%env istioctl=/Users/gsjurseth/istio-1.0.4/bin/istioctl\n",
    "%env ingress=35.225.233.232\n",
    "%env demo=/Users/gsjurseth/dev/fazio/microservices-demo\n",
    "%env apigee-istio=/Users/gsjurseth/istio/apigee-istio\n",
    "%env mypass=`dapass`"
   ]
  },
  {
   "cell_type": "markdown",
   "metadata": {},
   "source": [
    "---\n",
    "## Access the API"
   ]
  },
  {
   "cell_type": "code",
   "execution_count": 8,
   "metadata": {},
   "outputs": [],
   "source": [
    "!curl $ingress/products"
   ]
  },
  {
   "cell_type": "markdown",
   "metadata": {},
   "source": [
    "---\n",
    "## Wire up Apigee\n",
    "\n",
    "The following configures how Istio passes data to the Apigee adapter."
   ]
  },
  {
   "cell_type": "code",
   "execution_count": 5,
   "metadata": {},
   "outputs": [
    {
     "name": "stdout",
     "output_type": "stream",
     "text": [
      "analytics.config.istio.io/apigee unchanged\n",
      "authorization.config.istio.io/apigee unchanged\n"
     ]
    }
   ],
   "source": [
    "%%bash\n",
    "cat <<EOF | $kubectl apply -f -\n",
    "\n",
    "# instance configuration for template 'apigee.analytics'\n",
    "apiVersion: config.istio.io/v1alpha2\n",
    "kind: analytics\n",
    "metadata:\n",
    "  name: apigee\n",
    "  namespace: istio-system\n",
    "spec:\n",
    "  api_key: request.api_key | request.headers[\"x-api-key\"] | \"\"\n",
    "  api_proxy: api.service | destination.service.host | \"\"\n",
    "  response_status_code: response.code | 0\n",
    "  client_ip: source.ip | ip(\"0.0.0.0\")\n",
    "  request_verb: request.method | \"\"\n",
    "  request_uri: request.path | \"\"\n",
    "  useragent: request.useragent | \"\"\n",
    "  client_received_start_timestamp: request.time\n",
    "  client_received_end_timestamp: request.time\n",
    "  target_sent_start_timestamp: request.time\n",
    "  target_sent_end_timestamp: request.time\n",
    "  target_received_start_timestamp: response.time\n",
    "  target_received_end_timestamp: response.time\n",
    "  client_sent_start_timestamp: response.time\n",
    "  client_sent_end_timestamp: response.time\n",
    "  api_claims: # from jwt\n",
    "    json_claims: request.auth.raw_claims | \"\"\n",
    "---\n",
    "# instance configuration for template 'apigee.authorization'\n",
    "apiVersion: config.istio.io/v1alpha2\n",
    "kind: authorization\n",
    "metadata:\n",
    "  name: apigee\n",
    "  namespace: istio-system\n",
    "spec:\n",
    "  subject:\n",
    "    user: \"\"\n",
    "    groups: \"\"\n",
    "    properties:\n",
    "      api_key: request.api_key | request.headers[\"x-api-key\"] | \"\"\n",
    "      json_claims: request.auth.raw_claims | \"\"\n",
    "  action:\n",
    "    namespace: destination.namespace | \"default\"\n",
    "    service: api.service | destination.service.host | \"\"\n",
    "    path: api.operation | request.path | \"\"\n",
    "    method: request.method | \"\"\n",
    "\n",
    "EOF"
   ]
  },
  {
   "cell_type": "markdown",
   "metadata": {},
   "source": [
    "---\n",
    "## Analytics Rule\n",
    "\n",
    "This lets Istio know that we want to send all Istio telemetry to Apigee via the adapter."
   ]
  },
  {
   "cell_type": "code",
   "execution_count": 6,
   "metadata": {},
   "outputs": [
    {
     "name": "stdout",
     "output_type": "stream",
     "text": [
      "rule.config.istio.io/apigee-rule configured\n"
     ]
    }
   ],
   "source": [
    "%%bash\n",
    "cat <<EOF | $kubectl apply -f -\n",
    "\n",
    "# Defines rules to apply the Apigee mixer adapter to requests.\n",
    "# In the rule below, we apply Apigee authorization and analytics\n",
    "# as defined in the apigee-handler (handler.yaml) to all intra-mesh\n",
    "# requests.\n",
    "---\n",
    "apiVersion: config.istio.io/v1alpha2\n",
    "kind: rule\n",
    "metadata:\n",
    "  name: apigee-rule\n",
    "  namespace: istio-system\n",
    "spec:\n",
    "  match: context.reporter.kind == \"inbound\" && destination.namespace == \"default\"\n",
    "  actions:\n",
    "  - handler: apigee-handler.apigee.istio-system\n",
    "    instances:\n",
    "    - apigee.analytics\n",
    "\n",
    "EOF"
   ]
  },
  {
   "cell_type": "markdown",
   "metadata": {},
   "source": [
    "## Analytics Reporting\n",
    "\n",
    "Now we have analytics coming from our Istio services.\n",
    "\n",
    "https://apigee.com/platform/emea-poc15/devices"
   ]
  },
  {
   "cell_type": "markdown",
   "metadata": {},
   "source": [
    "---\n",
    "## Apigee API Product\n",
    "\n",
    "An API Product is how I will expose the API to developers.\n",
    "\n",
    "https://apigee.com/platform/emea-poc15/products/Tracking%20Details"
   ]
  },
  {
   "cell_type": "markdown",
   "metadata": {},
   "source": [
    "---\n",
    "## Protect the API with an API Key"
   ]
  },
  {
   "cell_type": "code",
   "execution_count": 7,
   "metadata": {},
   "outputs": [
    {
     "name": "stdout",
     "output_type": "stream",
     "text": [
      "rule.config.istio.io/apigee-rule configured\n"
     ]
    }
   ],
   "source": [
    "%%bash\n",
    "cat <<EOF | $kubectl apply -f -\n",
    "\n",
    "# Defines rules to apply the Apigee mixer adapter to requests.\n",
    "# In the rule below, we apply Apigee authorization and analytics\n",
    "# as defined in the apigee-handler (handler.yaml) to all intra-mesh\n",
    "# requests.\n",
    "---\n",
    "apiVersion: config.istio.io/v1alpha2\n",
    "kind: rule\n",
    "metadata:\n",
    "  name: apigee-rule\n",
    "  namespace: istio-system\n",
    "spec:\n",
    "  match: context.reporter.kind == \"inbound\" && destination.service.name == \"productcatalogservice\"\n",
    "  actions:\n",
    "  - handler: apigee-handler.apigee.istio-system\n",
    "    instances:\n",
    "    - apigee.analytics\n",
    "    - apigee.authorization\n",
    "    - apigee.quota\n",
    "    \n",
    "EOF"
   ]
  },
  {
   "cell_type": "markdown",
   "metadata": {},
   "source": [
    "---\n",
    "## Create an App to access the API Product\n",
    "\n",
    "The Developer Portal lets our developers create their own Apps to access protected API Product.\n",
    "\n",
    "https://emea-poc15-fazioapiportal.apigee.io/"
   ]
  },
  {
   "cell_type": "markdown",
   "metadata": {},
   "source": [
    "--- \n",
    "## Now we have an API Key .. Let's try hitting the api one more time with the key"
   ]
  },
  {
   "cell_type": "markdown",
   "metadata": {},
   "source": [
    "---\n",
    "### Check the result"
   ]
  },
  {
   "cell_type": "code",
   "execution_count": 10,
   "metadata": {},
   "outputs": [
    {
     "name": "stdout",
     "output_type": "stream",
     "text": [
      "HTTP/1.1 200 OK\n",
      "content-type: application/json\n",
      "x-envoy-upstream-service-time: 786\n",
      "grpc-status: 0\n",
      "grpc-message: \n",
      "content-length: 249\n",
      "date: Mon, 03 Dec 2018 12:53:07 GMT\n",
      "server: envoy\n",
      "\n",
      "{\"id\":\"OLJCESPC7Z\",\"name\":\"Vintage Typewriter\",\"description\":\"This typewriter looks good in your living room.\",\"picture\":\"/static/img/products/typewriter.jpg\",\"priceUsd\":{\"currencyCode\":\"USD\",\"units\":\"67\",\"nanos\":990000000},\"categories\":[\"vintage\"]}"
     ]
    }
   ],
   "source": [
    "!curl -i http://$ingress/products/OLJCESPC7Z -H \"x-api-key: TiZKngjgrJxHqCRblIGvQgaKSvZihfGR\" "
   ]
  },
  {
   "cell_type": "markdown",
   "metadata": {},
   "source": [
    "---\n",
    "## Rollback APIKey protection"
   ]
  },
  {
   "cell_type": "code",
   "execution_count": 11,
   "metadata": {},
   "outputs": [
    {
     "name": "stdout",
     "output_type": "stream",
     "text": [
      "rule.config.istio.io/apigee-rule configured\n"
     ]
    }
   ],
   "source": [
    "%%bash\n",
    "cat <<EOF | $kubectl apply -f -\n",
    "\n",
    "# Defines rules to apply the Apigee mixer adapter to requests.\n",
    "# In the rule below, we apply Apigee authorization and analytics\n",
    "# as defined in the apigee-handler (handler.yaml) to all intra-mesh\n",
    "# requests.\n",
    "---\n",
    "apiVersion: config.istio.io/v1alpha2\n",
    "kind: rule\n",
    "metadata:\n",
    "  name: apigee-rule\n",
    "  namespace: istio-system\n",
    "spec:\n",
    "  match: context.reporter.kind == \"inbound\" && destination.service.name == \"productcatalogservice\"\n",
    "  actions:\n",
    "  - handler: apigee-handler.apigee.istio-system\n",
    "    instances:\n",
    "    - apigee.analytics\n",
    "\n",
    "EOF"
   ]
  },
  {
   "cell_type": "code",
   "execution_count": 14,
   "metadata": {},
   "outputs": [
    {
     "name": "stdout",
     "output_type": "stream",
     "text": [
      "HTTP/1.1 503 Service Unavailable\n",
      "content-length: 57\n",
      "content-type: text/plain\n",
      "date: Mon, 03 Dec 2018 21:04:24 GMT\n",
      "server: envoy\n",
      "\n",
      "upstream connect error or disconnect/reset before headers"
     ]
    }
   ],
   "source": [
    "!curl -i http://$ingress/products/OLJCESPC7Z"
   ]
  },
  {
   "cell_type": "code",
   "execution_count": null,
   "metadata": {},
   "outputs": [],
   "source": []
  }
 ],
 "metadata": {
  "kernelspec": {
   "display_name": "Python 2",
   "language": "python",
   "name": "python2"
  },
  "language_info": {
   "codemirror_mode": {
    "name": "ipython",
    "version": 2
   },
   "file_extension": ".py",
   "mimetype": "text/x-python",
   "name": "python",
   "nbconvert_exporter": "python",
   "pygments_lexer": "ipython2",
   "version": "2.7.15"
  }
 },
 "nbformat": 4,
 "nbformat_minor": 2
}
