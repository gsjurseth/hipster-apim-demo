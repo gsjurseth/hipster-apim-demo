{
 "cells": [
  {
   "cell_type": "code",
   "execution_count": 1,
   "metadata": {},
   "outputs": [
    {
     "name": "stdout",
     "output_type": "stream",
     "text": [
      "env: kubectl=/usr/bin/kubectl\n",
      "env: istio=/Users/gsjurseth/istio-1.0.2\n",
      "env: istioctl=/Users/gsjurseth/istio-1.0.2/bin/istioctl\n",
      "env: ingress=35.226.214.129\n",
      "env: demo=/Users/gsjurseth/dev/fazio/microservices-demo\n",
      "env: apigee-istio=/Users/gsjurseth/istio/apigee-istio\n",
      "env: mypass=`dapass`\n"
     ]
    }
   ],
   "source": [
    "%env kubectl=/usr/bin/kubectl\n",
    "%env istio=/Users/gsjurseth/istio-1.0.2\n",
    "%env istioctl=/Users/gsjurseth/istio-1.0.2/bin/istioctl\n",
    "%env ingress=35.226.214.129\n",
    "%env demo=/Users/gsjurseth/dev/fazio/microservices-demo\n",
    "%env apigee-istio=/Users/gsjurseth/istio/apigee-istio\n",
    "%env mypass=`dapass`"
   ]
  },
  {
   "cell_type": "markdown",
   "metadata": {},
   "source": [
    "---\n",
    "## Expose the tracking api"
   ]
  },
  {
   "cell_type": "code",
   "execution_count": 2,
   "metadata": {},
   "outputs": [
    {
     "name": "stdout",
     "output_type": "stream",
     "text": [
      "virtualservice.networking.istio.io/frontend-ingress configured\n"
     ]
    }
   ],
   "source": [
    "%%bash\n",
    "cat <<EOF | $kubectl apply -f -\n",
    "\n",
    "apiVersion: networking.istio.io/v1alpha3\n",
    "kind: VirtualService\n",
    "metadata:\n",
    "  annotations:\n",
    "  name: frontend-ingress\n",
    "  namespace: default\n",
    "spec:\n",
    "  gateways:\n",
    "  - frontend-gateway\n",
    "  hosts:\n",
    "  - '*'\n",
    "  http:\n",
    "  - match:\n",
    "    - uri:\n",
    "        exact: /\n",
    "    - uri:\n",
    "        prefix: /cart\n",
    "    - uri:\n",
    "        prefix: /product\n",
    "    - uri:\n",
    "        exact: /setCurrency\n",
    "    - uri:\n",
    "        prefix: /static\n",
    "    route:\n",
    "    - destination:\n",
    "        host: frontend\n",
    "        subset: grey\n",
    "        port:\n",
    "          number: 80\n",
    "  - match:\n",
    "    - uri:\n",
    "        prefix: /tracking\n",
    "    route:\n",
    "    - destination:\n",
    "        host: shipping\n",
    "        port:\n",
    "          number: 8080\n",
    "    corsPolicy:\n",
    "      allowOrigin:\n",
    "      - \"*\"\n",
    "      allowMethods:\n",
    "      - GET\n",
    "      - POST\n",
    "      allowHeaders:\n",
    "      - content-type\n",
    "      - x-api-key\n",
    "      allowCredentials: true\n",
    "\n",
    "EOF"
   ]
  },
  {
   "cell_type": "markdown",
   "metadata": {},
   "source": [
    "---\n",
    "## Access the API"
   ]
  },
  {
   "cell_type": "code",
   "execution_count": 3,
   "metadata": {},
   "outputs": [
    {
     "name": "stdout",
     "output_type": "stream",
     "text": [
      "PERMISSION_DENIED:apigee-handler.apigee.istio-system:missing authentication"
     ]
    }
   ],
   "source": [
    "!curl $ingress/tracking/1"
   ]
  },
  {
   "cell_type": "markdown",
   "metadata": {},
   "source": [
    "---\n",
    "## Wire up Apigee\n",
    "\n",
    "The following configures how Istio passes data to the Apigee adapter."
   ]
  },
  {
   "cell_type": "code",
   "execution_count": 6,
   "metadata": {},
   "outputs": [
    {
     "name": "stdout",
     "output_type": "stream",
     "text": [
      "analytics.config.istio.io/apigee unchanged\n",
      "authorization.config.istio.io/apigee unchanged\n"
     ]
    }
   ],
   "source": [
    "%%bash\n",
    "cat <<EOF | $kubectl apply -f -\n",
    "\n",
    "# instance configuration for template 'apigee.analytics'\n",
    "apiVersion: config.istio.io/v1alpha2\n",
    "kind: analytics\n",
    "metadata:\n",
    "  name: apigee\n",
    "  namespace: istio-system\n",
    "spec:\n",
    "  api_key: request.api_key | request.headers[\"x-api-key\"] | \"\"\n",
    "  api_proxy: api.service | destination.service.host | \"\"\n",
    "  response_status_code: response.code | 0\n",
    "  client_ip: source.ip | ip(\"0.0.0.0\")\n",
    "  request_verb: request.method | \"\"\n",
    "  request_uri: request.path | \"\"\n",
    "  useragent: request.useragent | \"\"\n",
    "  client_received_start_timestamp: request.time\n",
    "  client_received_end_timestamp: request.time\n",
    "  target_sent_start_timestamp: request.time\n",
    "  target_sent_end_timestamp: request.time\n",
    "  target_received_start_timestamp: response.time\n",
    "  target_received_end_timestamp: response.time\n",
    "  client_sent_start_timestamp: response.time\n",
    "  client_sent_end_timestamp: response.time\n",
    "  api_claims: # from jwt\n",
    "    json_claims: request.auth.raw_claims | \"\"\n",
    "---\n",
    "\n",
    "# instance configuration for template 'apigee.authorization'\n",
    "apiVersion: config.istio.io/v1alpha2\n",
    "kind: authorization\n",
    "metadata:\n",
    "  name: apigee\n",
    "  namespace: istio-system\n",
    "spec:\n",
    "  subject:\n",
    "    user: \"\"\n",
    "    groups: \"\"\n",
    "    properties:\n",
    "      api_key: request.api_key | request.headers[\"x-api-key\"] | \"\"\n",
    "      json_claims: request.auth.raw_claims | \"\"\n",
    "  action:\n",
    "    namespace: destination.namespace | \"default\"\n",
    "    service: api.service | destination.service.host | \"\"\n",
    "    path: api.operation | request.path | \"\"\n",
    "    method: request.method | \"\"\n",
    "\n",
    "EOF"
   ]
  },
  {
   "cell_type": "markdown",
   "metadata": {},
   "source": [
    "---\n",
    "## Analytics Rule\n",
    "\n",
    "This lets Istio know that we want to send all Istio telemetry to Apigee via the adapter."
   ]
  },
  {
   "cell_type": "code",
   "execution_count": 7,
   "metadata": {},
   "outputs": [
    {
     "name": "stdout",
     "output_type": "stream",
     "text": [
      "rule.config.istio.io/apigee-analytics unchanged\n"
     ]
    }
   ],
   "source": [
    "%%bash\n",
    "cat <<EOF | $kubectl apply -f -\n",
    "\n",
    "apiVersion: config.istio.io/v1alpha2\n",
    "kind: rule\n",
    "metadata:\n",
    "  name: apigee-analytics\n",
    "  namespace: istio-system\n",
    "spec:\n",
    "  match: context.reporter.kind == \"inbound\"\n",
    "  actions:\n",
    "  - handler: apigee-handler.apigee.istio-system\n",
    "    instances:\n",
    "    - apigee.analytics\n",
    "\n",
    "EOF"
   ]
  },
  {
   "cell_type": "markdown",
   "metadata": {},
   "source": [
    "## Analytics Reporting\n",
    "\n",
    "Now we have analytics coming from our Istio services.\n",
    "\n",
    "https://apigee.com/platform/emea-poc15/devices"
   ]
  },
  {
   "cell_type": "markdown",
   "metadata": {},
   "source": [
    "---\n",
    "## Apigee API Product\n",
    "\n",
    "An API Product is how I will expose the API to developers.\n",
    "\n",
    "https://apigee.com/platform/emea-poc15/products/Tracking%20Details"
   ]
  },
  {
   "cell_type": "markdown",
   "metadata": {},
   "source": [
    "---\n",
    "## Protect the API with an API Key"
   ]
  },
  {
   "cell_type": "code",
   "execution_count": 6,
   "metadata": {},
   "outputs": [
    {
     "name": "stdout",
     "output_type": "stream",
     "text": [
      "rule.config.istio.io/apigee-authorization configured\n"
     ]
    }
   ],
   "source": [
    "%%bash\n",
    "cat <<EOF | $kubectl apply -f -\n",
    "\n",
    "apiVersion: config.istio.io/v1alpha2\n",
    "kind: rule\n",
    "metadata:\n",
    "  name: apigee-authorization\n",
    "  namespace: istio-system\n",
    "spec:\n",
    "  match: context.reporter.kind == \"inbound\" && destination.service.name == \"shipping\"\n",
    "  actions:\n",
    "  - handler: apigee-handler.apigee.istio-system\n",
    "    instances:\n",
    "    - apigee.analytics\n",
    "    - apigee.authorization\n",
    "    \n",
    "EOF"
   ]
  },
  {
   "cell_type": "markdown",
   "metadata": {},
   "source": [
    "---\n",
    "## Create an App to access the API Product\n",
    "\n",
    "The Developer Portal lets our developers create their own Apps to access protected API Product.\n",
    "\n",
    "https://emea-poc15-fazioapiportal.apigee.io/"
   ]
  },
  {
   "cell_type": "markdown",
   "metadata": {},
   "source": [
    "--- \n",
    "## Now we have an API Key .. Let's try hitting the api one more time with the key"
   ]
  },
  {
   "cell_type": "markdown",
   "metadata": {},
   "source": [
    "---\n",
    "### Check the result"
   ]
  },
  {
   "cell_type": "code",
   "execution_count": 9,
   "metadata": {},
   "outputs": [
    {
     "name": "stdout",
     "output_type": "stream",
     "text": [
      "{\"id\":\"123\",\"tracking_code\":\"80a1f660-e8db-11e8-af8c-9f40fc771abf\",\"status\":14,\"created\":\"Thu, 15 Nov 2018 13:36:48 GMT\",\"updated\":\"Thu, 15 Nov 2018 13:36:48 GMT\",\"signed\":\"John Doe\",\"weight\":\"16.99\",\"estiamted_delivery_date\":\"Thu, 15 Nov 2018 13:36:48 GMT\",\"carrier\":\"UPS\",\"trackingLocation\":{\"city\":\"Los Angeles\",\"state\":\"CA\",\"country\":\"US\",\"zip\":\"90001\"}}"
     ]
    }
   ],
   "source": [
    "!curl http://$ingress/tracking/123 -H \"x-api-key: TiZKngjgrJxHqCRblIGvQgaKSvZihfGR\" "
   ]
  },
  {
   "cell_type": "markdown",
   "metadata": {},
   "source": [
    "---\n",
    "## Rollback APIKey protection"
   ]
  },
  {
   "cell_type": "code",
   "execution_count": 4,
   "metadata": {},
   "outputs": [
    {
     "name": "stdout",
     "output_type": "stream",
     "text": [
      "rule.config.istio.io/apigee-authorization configured\n"
     ]
    }
   ],
   "source": [
    "%%bash\n",
    "cat <<EOF | $kubectl apply -f -\n",
    "\n",
    "apiVersion: config.istio.io/v1alpha2\n",
    "kind: rule\n",
    "metadata:\n",
    "  name: apigee-authorization\n",
    "  namespace: istio-system\n",
    "spec:\n",
    "  match: context.reporter.kind == \"inbound\" && destination.service.name == \"shipping\"\n",
    "  actions:\n",
    "  - handler: apigee-handler.apigee.istio-system\n",
    "    instances:\n",
    "        - apigee.analytics\n",
    "\n",
    "\n",
    "EOF"
   ]
  },
  {
   "cell_type": "code",
   "execution_count": 5,
   "metadata": {},
   "outputs": [
    {
     "name": "stdout",
     "output_type": "stream",
     "text": [
      "  % Total    % Received % Xferd  Average Speed   Time    Time     Time  Current\n",
      "                                 Dload  Upload   Total   Spent    Left  Speed\n",
      "100   359  100   359    0     0    801      0 --:--:-- --:--:-- --:--:--   801\n",
      "\u001b[1;39m{\n",
      "  \u001b[0m\u001b[34;1m\"id\"\u001b[0m\u001b[1;39m: \u001b[0m\u001b[0;32m\"123\"\u001b[0m\u001b[1;39m,\n",
      "  \u001b[0m\u001b[34;1m\"tracking_code\"\u001b[0m\u001b[1;39m: \u001b[0m\u001b[0;32m\"3b544360-e8db-11e8-af8c-9f40fc771abf\"\u001b[0m\u001b[1;39m,\n",
      "  \u001b[0m\u001b[34;1m\"status\"\u001b[0m\u001b[1;39m: \u001b[0m\u001b[0;39m5\u001b[0m\u001b[1;39m,\n",
      "  \u001b[0m\u001b[34;1m\"created\"\u001b[0m\u001b[1;39m: \u001b[0m\u001b[0;32m\"Thu, 15 Nov 2018 13:34:52 GMT\"\u001b[0m\u001b[1;39m,\n",
      "  \u001b[0m\u001b[34;1m\"updated\"\u001b[0m\u001b[1;39m: \u001b[0m\u001b[0;32m\"Thu, 15 Nov 2018 13:34:52 GMT\"\u001b[0m\u001b[1;39m,\n",
      "  \u001b[0m\u001b[34;1m\"signed\"\u001b[0m\u001b[1;39m: \u001b[0m\u001b[0;32m\"George Tester\"\u001b[0m\u001b[1;39m,\n",
      "  \u001b[0m\u001b[34;1m\"weight\"\u001b[0m\u001b[1;39m: \u001b[0m\u001b[0;32m\"13.48\"\u001b[0m\u001b[1;39m,\n",
      "  \u001b[0m\u001b[34;1m\"estiamted_delivery_date\"\u001b[0m\u001b[1;39m: \u001b[0m\u001b[0;32m\"Thu, 15 Nov 2018 13:34:52 GMT\"\u001b[0m\u001b[1;39m,\n",
      "  \u001b[0m\u001b[34;1m\"carrier\"\u001b[0m\u001b[1;39m: \u001b[0m\u001b[0;32m\"UPS\"\u001b[0m\u001b[1;39m,\n",
      "  \u001b[0m\u001b[34;1m\"trackingLocation\"\u001b[0m\u001b[1;39m: \u001b[0m\u001b[1;39m{\n",
      "    \u001b[0m\u001b[34;1m\"city\"\u001b[0m\u001b[1;39m: \u001b[0m\u001b[0;32m\"New York\"\u001b[0m\u001b[1;39m,\n",
      "    \u001b[0m\u001b[34;1m\"state\"\u001b[0m\u001b[1;39m: \u001b[0m\u001b[0;32m\"NY\"\u001b[0m\u001b[1;39m,\n",
      "    \u001b[0m\u001b[34;1m\"country\"\u001b[0m\u001b[1;39m: \u001b[0m\u001b[0;32m\"US\"\u001b[0m\u001b[1;39m,\n",
      "    \u001b[0m\u001b[34;1m\"zip\"\u001b[0m\u001b[1;39m: \u001b[0m\u001b[0;32m\"10001\"\u001b[0m\u001b[1;39m\n",
      "  \u001b[1;39m}\u001b[0m\u001b[1;39m\n",
      "\u001b[1;39m}\u001b[0m\n"
     ]
    }
   ],
   "source": [
    "!curl http://$ingress/tracking/123 | jq ."
   ]
  },
  {
   "cell_type": "code",
   "execution_count": null,
   "metadata": {},
   "outputs": [],
   "source": []
  },
  {
   "cell_type": "code",
   "execution_count": null,
   "metadata": {},
   "outputs": [],
   "source": []
  }
 ],
 "metadata": {
  "kernelspec": {
   "display_name": "Python 2",
   "language": "python",
   "name": "python2"
  },
  "language_info": {
   "codemirror_mode": {
    "name": "ipython",
    "version": 2
   },
   "file_extension": ".py",
   "mimetype": "text/x-python",
   "name": "python",
   "nbconvert_exporter": "python",
   "pygments_lexer": "ipython2",
   "version": "2.7.15"
  }
 },
 "nbformat": 4,
 "nbformat_minor": 2
}
