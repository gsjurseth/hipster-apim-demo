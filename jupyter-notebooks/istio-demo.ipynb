{
 "cells": [
  {
   "cell_type": "code",
   "execution_count": 6,
   "metadata": {},
   "outputs": [
    {
     "name": "stdout",
     "output_type": "stream",
     "text": [
      "env: kubectl=/usr/bin/kubectl\n",
      "env: istio=/Users/gsjurseth/istio-1.0.4\n",
      "env: istioctl=/Users/gsjurseth/istio-1.0.4/bin/istioctl\n",
      "env: ingress=35.225.233.232\n",
      "env: demo=/Users/gsjurseth/dev/fazio/microservices-demo\n"
     ]
    }
   ],
   "source": [
    "%env kubectl=/usr/bin/kubectl\n",
    "%env istio=/Users/gsjurseth/istio-1.0.4\n",
    "%env istioctl=/Users/gsjurseth/istio-1.0.4/bin/istioctl\n",
    "%env ingress=35.225.233.232\n",
    "%env demo=/Users/gsjurseth/dev/fazio/microservices-demo"
   ]
  },
  {
   "cell_type": "markdown",
   "metadata": {},
   "source": [
    "---\n",
    "## Fazio Retail Shop UI\n",
    "\n",
    "http://35.225.233.232/\n",
    "\n",
    "\n",
    "Let's look at the running pods"
   ]
  },
  {
   "cell_type": "code",
   "execution_count": 8,
   "metadata": {},
   "outputs": [
    {
     "name": "stdout",
     "output_type": "stream",
     "text": [
      "NAME                                     READY   STATUS    RESTARTS   AGE\n",
      "adservice-6578bcfd8f-lgfgf               2/2     Running   0          2h\n",
      "cartservice-5cb655594d-bjf68             2/2     Running   4          2h\n",
      "checkoutservice-799869764-lzpt2          2/2     Running   0          2h\n",
      "currencyservice-6cbdc7768d-c7xvg         2/2     Running   0          2h\n",
      "emailservice-9b7867fcb-n99kw             2/2     Running   0          2h\n",
      "frontend-blue-6fb5d8d967-bvrbs           2/2     Running   0          2h\n",
      "frontend-gray-5447f56f9b-n8kc2           2/2     Running   0          2h\n",
      "loadgenerator-cf64757b5-lslx2            2/2     Running   0          2h\n",
      "paymentservice-57cd6d499f-dwzj6          2/2     Running   0          2h\n",
      "productcatalogservice-584d6ff79d-jrgj5   2/2     Running   0          2h\n",
      "recommendationservice-69869d97b9-h5rbb   2/2     Running   0          2h\n",
      "redis-cart-9b864d47f-2nzdz               2/2     Running   0          2h\n",
      "shippingservice-7b7759d995-ckqjc         2/2     Running   0          2h\n"
     ]
    }
   ],
   "source": [
    "!$kubectl get pods"
   ]
  },
  {
   "cell_type": "markdown",
   "metadata": {},
   "source": [
    "---\n",
    "## Architectural Diagram\n",
    "\n",
    "![architecture](https://raw.githubusercontent.com/theganyo/microservices-demo/fazio-playground/img/architecture-diagram.jpeg)"
   ]
  },
  {
   "cell_type": "markdown",
   "metadata": {},
   "source": [
    "---\n",
    "## I've heard that blue is hip color!\n",
    "\n",
    "But is it really? Let's canary test a blue front-end. We'll route 20% of traffic to the blue version."
   ]
  },
  {
   "cell_type": "code",
   "execution_count": 9,
   "metadata": {},
   "outputs": [
    {
     "name": "stdout",
     "output_type": "stream",
     "text": [
      "virtualservice.networking.istio.io/frontend-ingress configured\n"
     ]
    }
   ],
   "source": [
    "%%bash\n",
    "cat <<EOF | $kubectl apply -f -\n",
    "\n",
    "apiVersion: networking.istio.io/v1alpha3\n",
    "kind: VirtualService\n",
    "metadata:\n",
    "  name: frontend-ingress\n",
    "spec:\n",
    "  gateways:\n",
    "  - frontend-gateway\n",
    "  hosts:\n",
    "  - '*'\n",
    "  http:\n",
    "  - route:\n",
    "    - destination:\n",
    "        host: frontend\n",
    "        subset: gray\n",
    "      weight: 66\n",
    "    - destination:\n",
    "        host: frontend\n",
    "        subset: blue\n",
    "      weight: 34\n",
    "\n",
    "EOF"
   ]
  },
  {
   "cell_type": "markdown",
   "metadata": {},
   "source": [
    "---\n",
    "## It turns out, customers prefer grey.\n",
    "\n",
    "Let's revert that change."
   ]
  },
  {
   "cell_type": "code",
   "execution_count": 10,
   "metadata": {},
   "outputs": [
    {
     "name": "stdout",
     "output_type": "stream",
     "text": [
      "virtualservice.networking.istio.io/frontend-ingress configured\n"
     ]
    }
   ],
   "source": [
    "%%bash\n",
    "cat <<EOF | $kubectl apply -f -\n",
    "\n",
    "apiVersion: networking.istio.io/v1alpha3\n",
    "kind: VirtualService\n",
    "metadata:\n",
    "  name: frontend-ingress\n",
    "spec:\n",
    "  gateways:\n",
    "  - frontend-gateway\n",
    "  hosts:\n",
    "  - '*'\n",
    "  http:\n",
    "  - route:\n",
    "    - destination:\n",
    "        host: frontend\n",
    "        subset: gray\n",
    "      weight: 100\n",
    "\n",
    "EOF"
   ]
  },
  {
   "cell_type": "markdown",
   "metadata": {},
   "source": [
    "---\n",
    "## Jaeger UI\n",
    "\n",
    "Run in console:\n",
    "\n",
    "    kubectl port-forward -n istio-system $(kubectl get pod -n istio-system -l app=jaeger -o jsonpath='{.items[0].metadata.name}') 16686:16686 &\n",
    "    \n",
    "http://penguin.linux.test:16686/search?service=emailservice"
   ]
  },
  {
   "cell_type": "markdown",
   "metadata": {},
   "source": [
    "---\n",
    "## Grafana UI\n",
    "\n",
    "Run in console:\n",
    "\n",
    "    kubectl -n istio-system port-forward $(kubectl -n istio-system get pod -l app=grafana -o jsonpath='{.items[0].metadata.name}') 3000:3000 &\n",
    "    \n",
    "http://penguin.linux.test:3000/d/3/pilot-dashboard"
   ]
  }
 ],
 "metadata": {
  "kernelspec": {
   "display_name": "Python 2",
   "language": "python",
   "name": "python2"
  },
  "language_info": {
   "codemirror_mode": {
    "name": "ipython",
    "version": 2
   },
   "file_extension": ".py",
   "mimetype": "text/x-python",
   "name": "python",
   "nbconvert_exporter": "python",
   "pygments_lexer": "ipython2",
   "version": "2.7.15"
  }
 },
 "nbformat": 4,
 "nbformat_minor": 2
}
