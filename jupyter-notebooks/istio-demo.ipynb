{
 "cells": [
  {
   "cell_type": "code",
   "execution_count": 3,
   "metadata": {},
   "outputs": [
    {
     "name": "stdout",
     "output_type": "stream",
     "text": [
      "env: kubectl=/usr/bin/kubectl\n",
      "env: istio=/Users/gsjurseth/istio-1.0.2\n",
      "env: istioctl=/Users/gsjurseth/istio-1.0.2/bin/istioctl\n",
      "env: ingress=35.226.214.129\n",
      "env: demo=/Users/gsjurseth/dev/fazio/microservices-demo\n"
     ]
    }
   ],
   "source": [
    "%env kubectl=/usr/bin/kubectl\n",
    "%env istio=/Users/gsjurseth/istio-1.0.2\n",
    "%env istioctl=/Users/gsjurseth/istio-1.0.2/bin/istioctl\n",
    "%env ingress=35.226.214.129\n",
    "%env demo=/Users/gsjurseth/dev/fazio/microservices-demo"
   ]
  },
  {
   "cell_type": "markdown",
   "metadata": {},
   "source": [
    "---\n",
    "## Fazio Retail Shop UI\n",
    "\n",
    "http://35.226.214.129/\n",
    "\n",
    "\n",
    "Let's look at the running pods"
   ]
  },
  {
   "cell_type": "code",
   "execution_count": 7,
   "metadata": {},
   "outputs": [
    {
     "name": "stdout",
     "output_type": "stream",
     "text": [
      "NAME                                     READY   STATUS             RESTARTS   AGE\n",
      "adservice-67884759d9-7zdv2               2/2     Running            0          6m\n",
      "cartservice-7bfdb5c8c4-rgnn5             1/2     CrashLoopBackOff   4          3m\n",
      "checkoutservice-7dcb8b7b76-h7vk2         2/2     Running            0          3m\n",
      "currencyservice-646d587bc7-h9cpx         2/2     Running            0          2m\n",
      "emailservice-5b6f4f44bd-b9xr2            2/2     Running            0          2m\n",
      "frontend-blue-6c56684d8-lb2wf            2/2     Running            0          2m\n",
      "frontend-gray-74574c4564-vvb2z           2/2     Running            0          2m\n",
      "loadgenerator-6cd67f4d67-4bl9r           0/2     Init:0/2           0          2m\n",
      "paymentservice-6565588d84-xcdjv          2/2     Running            0          2m\n",
      "productcatalogservice-86d7c6744f-wnqql   2/2     Running            0          2m\n",
      "recommendationservice-5c5fd5cf7f-cwvhf   2/2     Running            0          2m\n",
      "redis-cart-6c5bf5769d-mb8b8              2/2     Running            0          2m\n",
      "shippingservice-644d487594-r26r5         2/2     Running            0          2m\n"
     ]
    }
   ],
   "source": [
    "!$kubectl get pods"
   ]
  },
  {
   "cell_type": "markdown",
   "metadata": {},
   "source": [
    "---\n",
    "## Architectural Diagram\n",
    "\n",
    "![architecture](https://raw.githubusercontent.com/theganyo/microservices-demo/fazio-playground/img/architecture-diagram.jpeg)"
   ]
  },
  {
   "cell_type": "markdown",
   "metadata": {},
   "source": [
    "---\n",
    "## I've heard that blue is hip color!\n",
    "\n",
    "But is it really? Let's canary test a blue front-end. We'll route 20% of traffic to the blue version."
   ]
  },
  {
   "cell_type": "code",
   "execution_count": 5,
   "metadata": {},
   "outputs": [
    {
     "name": "stdout",
     "output_type": "stream",
     "text": [
      "virtualservice.networking.istio.io/frontend-ingress configured\n"
     ]
    }
   ],
   "source": [
    "%%bash\n",
    "cat <<EOF | $kubectl apply -f -\n",
    "\n",
    "apiVersion: networking.istio.io/v1alpha3\n",
    "kind: VirtualService\n",
    "metadata:\n",
    "  name: frontend-ingress\n",
    "spec:\n",
    "  gateways:\n",
    "  - frontend-gateway\n",
    "  hosts:\n",
    "  - '*'\n",
    "  http:\n",
    "  - route:\n",
    "    - destination:\n",
    "        host: frontend\n",
    "        subset: gray\n",
    "      weight: 66\n",
    "    - destination:\n",
    "        host: frontend\n",
    "        subset: blue\n",
    "      weight: 34\n",
    "\n",
    "EOF"
   ]
  },
  {
   "cell_type": "markdown",
   "metadata": {},
   "source": [
    "---\n",
    "## It turns out, customers prefer grey.\n",
    "\n",
    "Let's revert that change."
   ]
  },
  {
   "cell_type": "code",
   "execution_count": 6,
   "metadata": {},
   "outputs": [
    {
     "name": "stdout",
     "output_type": "stream",
     "text": [
      "virtualservice.networking.istio.io/frontend-ingress configured\n"
     ]
    }
   ],
   "source": [
    "%%bash\n",
    "cat <<EOF | $kubectl apply -f -\n",
    "\n",
    "apiVersion: networking.istio.io/v1alpha3\n",
    "kind: VirtualService\n",
    "metadata:\n",
    "  name: frontend-ingress\n",
    "spec:\n",
    "  gateways:\n",
    "  - frontend-gateway\n",
    "  hosts:\n",
    "  - '*'\n",
    "  http:\n",
    "  - route:\n",
    "    - destination:\n",
    "        host: frontend\n",
    "        subset: gray\n",
    "      weight: 100\n",
    "\n",
    "EOF"
   ]
  },
  {
   "cell_type": "markdown",
   "metadata": {},
   "source": [
    "---\n",
    "## Jaeger UI\n",
    "\n",
    "Run in console:\n",
    "\n",
    "    kubectl port-forward -n istio-system $(kubectl get pod -n istio-system -l app=jaeger -o jsonpath='{.items[0].metadata.name}') 16686:16686 &\n",
    "    \n",
    "http://penguin.linux.test:16686/search?service=emailservice"
   ]
  },
  {
   "cell_type": "markdown",
   "metadata": {},
   "source": [
    "---\n",
    "## Grafana UI\n",
    "\n",
    "Run in console:\n",
    "\n",
    "    kubectl -n istio-system port-forward $(kubectl -n istio-system get pod -l app=grafana -o jsonpath='{.items[0].metadata.name}') 3000:3000 &\n",
    "    \n",
    "http://penguin.linux.test:3000/d/3/pilot-dashboard"
   ]
  }
 ],
 "metadata": {
  "kernelspec": {
   "display_name": "Python 2",
   "language": "python",
   "name": "python2"
  },
  "language_info": {
   "codemirror_mode": {
    "name": "ipython",
    "version": 2
   },
   "file_extension": ".py",
   "mimetype": "text/x-python",
   "name": "python",
   "nbconvert_exporter": "python",
   "pygments_lexer": "ipython2",
   "version": "2.7.15"
  }
 },
 "nbformat": 4,
 "nbformat_minor": 2
}
